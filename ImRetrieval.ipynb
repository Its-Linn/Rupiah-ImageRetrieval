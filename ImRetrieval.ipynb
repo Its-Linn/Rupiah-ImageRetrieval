{
  "cells": [
    {
      "cell_type": "markdown",
      "metadata": {
        "id": "4vC-cBccA6X5"
      },
      "source": [
        "<centering><h1>Pengenalan Mata Uang Menggunakan Image Retrieval Sederhana</h1></centering>"
      ]
    },
    {
      "cell_type": "markdown",
      "metadata": {
        "id": "zpMkVvr1BThn"
      },
      "source": [
        "# 1. Load gambar referensi dan gambar uji"
      ]
    },
    {
      "cell_type": "code",
      "execution_count": 1,
      "metadata": {
        "colab": {
          "base_uri": "https://localhost:8080/"
        },
        "id": "aEgXvB-NBada",
        "outputId": "44102cfe-ca3c-47fd-d99b-c867f0fbaff1"
      },
      "outputs": [
        {
          "name": "stdout",
          "output_type": "stream",
          "text": [
            "Mounted at /content/drive\n"
          ]
        }
      ],
      "source": [
        "from google.colab import drive\n",
        "drive.mount('/content/drive')"
      ]
    },
    {
      "cell_type": "code",
      "execution_count": 3,
      "metadata": {
        "id": "q8jgu12XBcXe"
      },
      "outputs": [],
      "source": [
        "import os\n",
        "\n",
        "path_referensi = \"/content/rupiahimage/spesimen/\"\n",
        "path_uji = \"/content/rupiahimage/foto/\"\n",
        "\n",
        "file_referensi = os.listdir(path_referensi)\n",
        "file_uji = os.listdir(path_uji)"
      ]
    },
    {
      "cell_type": "markdown",
      "metadata": {
        "id": "L2uJTFGfBuj2"
      },
      "source": [
        "# 2. Ekstraksi fitur untuk gambar referensi"
      ]
    },
    {
      "cell_type": "code",
      "execution_count": 8,
      "metadata": {
        "id": "XjT6GcGRBwwK"
      },
      "outputs": [],
      "source": [
        "import matplotlib.pyplot as plt\n",
        "import cv2\n",
        "import numpy as np\n",
        "\n",
        "def create_features(img):\n",
        "  R = np.mean(img[:,:,0].flatten())\n",
        "  G = np.mean(img[:,:,1].flatten())\n",
        "  B = np.mean(img[:,:,2].flatten())\n",
        "  img_hsv = cv2.cvtColor(img, cv2.COLOR_RGB2HSV)\n",
        "  H = np.mean(img_hsv[0])\n",
        "  return [R,G,B,H]\n",
        "\n",
        "feat_referensi = []\n",
        "for file_img in file_referensi:\n",
        "  img = plt.imread(path_referensi + file_img)\n",
        "  feat_referensi.append(create_features(img))"
      ]
    },
    {
      "cell_type": "markdown",
      "metadata": {
        "id": "ry27Ebr4ClMc"
      },
      "source": [
        "# 3. Ekstraksi fitur untuk gambar uji"
      ]
    },
    {
      "cell_type": "code",
      "execution_count": 9,
      "metadata": {
        "id": "SNR1E1GvCq7X"
      },
      "outputs": [],
      "source": [
        "feat_uji = []\n",
        "for file_img in file_uji:\n",
        "  img_uji = plt.imread(path_uji + file_img)\n",
        "  feat_uji.append(create_features(img_uji))"
      ]
    },
    {
      "cell_type": "markdown",
      "metadata": {
        "id": "ut5_2mqTDE8S"
      },
      "source": [
        "# 4. Hitung jarak euclidean untuk tiap data uji ke semua data referensi\n",
        "\n",
        "Hanya diambil 1 jarak terdekat saja dan hanya prediksi nominal. Karena data referensi tidak memenuhi untuk menggunakan kNN"
      ]
    },
    {
      "cell_type": "code",
      "execution_count": 12,
      "metadata": {
        "colab": {
          "base_uri": "https://localhost:8080/",
          "height": 300
        },
        "id": "Gqxe_zvYDKZR",
        "outputId": "062bd3cb-521e-46e7-e98d-40b33a054c3d"
      },
      "outputs": [
        {
          "data": {
            "text/html": [
              "\n",
              "  <div id=\"df-b4321f01-0907-4d60-abf8-df2415072664\">\n",
              "    <div class=\"colab-df-container\">\n",
              "      <div>\n",
              "<style scoped>\n",
              "    .dataframe tbody tr th:only-of-type {\n",
              "        vertical-align: middle;\n",
              "    }\n",
              "\n",
              "    .dataframe tbody tr th {\n",
              "        vertical-align: top;\n",
              "    }\n",
              "\n",
              "    .dataframe thead th {\n",
              "        text-align: right;\n",
              "    }\n",
              "</style>\n",
              "<table border=\"1\" class=\"dataframe\">\n",
              "  <thead>\n",
              "    <tr style=\"text-align: right;\">\n",
              "      <th></th>\n",
              "      <th>nominal_prediksi</th>\n",
              "      <th>nominal_referensi</th>\n",
              "      <th>jarak</th>\n",
              "      <th>kesimpulan</th>\n",
              "    </tr>\n",
              "  </thead>\n",
              "  <tbody>\n",
              "    <tr>\n",
              "      <th>0</th>\n",
              "      <td>100000</td>\n",
              "      <td>100000</td>\n",
              "      <td>10.159650</td>\n",
              "      <td>True</td>\n",
              "    </tr>\n",
              "    <tr>\n",
              "      <th>1</th>\n",
              "      <td>100000</td>\n",
              "      <td>100000</td>\n",
              "      <td>7.423077</td>\n",
              "      <td>True</td>\n",
              "    </tr>\n",
              "    <tr>\n",
              "      <th>2</th>\n",
              "      <td>50000</td>\n",
              "      <td>1000</td>\n",
              "      <td>29.053539</td>\n",
              "      <td>False</td>\n",
              "    </tr>\n",
              "    <tr>\n",
              "      <th>3</th>\n",
              "      <td>50000</td>\n",
              "      <td>2000</td>\n",
              "      <td>27.356174</td>\n",
              "      <td>False</td>\n",
              "    </tr>\n",
              "    <tr>\n",
              "      <th>4</th>\n",
              "      <td>5000</td>\n",
              "      <td>5000</td>\n",
              "      <td>14.572032</td>\n",
              "      <td>True</td>\n",
              "    </tr>\n",
              "    <tr>\n",
              "      <th>5</th>\n",
              "      <td>5000</td>\n",
              "      <td>5000</td>\n",
              "      <td>12.124659</td>\n",
              "      <td>True</td>\n",
              "    </tr>\n",
              "    <tr>\n",
              "      <th>6</th>\n",
              "      <td>2000</td>\n",
              "      <td>2000</td>\n",
              "      <td>24.894410</td>\n",
              "      <td>True</td>\n",
              "    </tr>\n",
              "    <tr>\n",
              "      <th>7</th>\n",
              "      <td>2000</td>\n",
              "      <td>2000</td>\n",
              "      <td>14.637891</td>\n",
              "      <td>True</td>\n",
              "    </tr>\n",
              "  </tbody>\n",
              "</table>\n",
              "</div>\n",
              "      <button class=\"colab-df-convert\" onclick=\"convertToInteractive('df-b4321f01-0907-4d60-abf8-df2415072664')\"\n",
              "              title=\"Convert this dataframe to an interactive table.\"\n",
              "              style=\"display:none;\">\n",
              "        \n",
              "  <svg xmlns=\"http://www.w3.org/2000/svg\" height=\"24px\"viewBox=\"0 0 24 24\"\n",
              "       width=\"24px\">\n",
              "    <path d=\"M0 0h24v24H0V0z\" fill=\"none\"/>\n",
              "    <path d=\"M18.56 5.44l.94 2.06.94-2.06 2.06-.94-2.06-.94-.94-2.06-.94 2.06-2.06.94zm-11 1L8.5 8.5l.94-2.06 2.06-.94-2.06-.94L8.5 2.5l-.94 2.06-2.06.94zm10 10l.94 2.06.94-2.06 2.06-.94-2.06-.94-.94-2.06-.94 2.06-2.06.94z\"/><path d=\"M17.41 7.96l-1.37-1.37c-.4-.4-.92-.59-1.43-.59-.52 0-1.04.2-1.43.59L10.3 9.45l-7.72 7.72c-.78.78-.78 2.05 0 2.83L4 21.41c.39.39.9.59 1.41.59.51 0 1.02-.2 1.41-.59l7.78-7.78 2.81-2.81c.8-.78.8-2.07 0-2.86zM5.41 20L4 18.59l7.72-7.72 1.47 1.35L5.41 20z\"/>\n",
              "  </svg>\n",
              "      </button>\n",
              "      \n",
              "  <style>\n",
              "    .colab-df-container {\n",
              "      display:flex;\n",
              "      flex-wrap:wrap;\n",
              "      gap: 12px;\n",
              "    }\n",
              "\n",
              "    .colab-df-convert {\n",
              "      background-color: #E8F0FE;\n",
              "      border: none;\n",
              "      border-radius: 50%;\n",
              "      cursor: pointer;\n",
              "      display: none;\n",
              "      fill: #1967D2;\n",
              "      height: 32px;\n",
              "      padding: 0 0 0 0;\n",
              "      width: 32px;\n",
              "    }\n",
              "\n",
              "    .colab-df-convert:hover {\n",
              "      background-color: #E2EBFA;\n",
              "      box-shadow: 0px 1px 2px rgba(60, 64, 67, 0.3), 0px 1px 3px 1px rgba(60, 64, 67, 0.15);\n",
              "      fill: #174EA6;\n",
              "    }\n",
              "\n",
              "    [theme=dark] .colab-df-convert {\n",
              "      background-color: #3B4455;\n",
              "      fill: #D2E3FC;\n",
              "    }\n",
              "\n",
              "    [theme=dark] .colab-df-convert:hover {\n",
              "      background-color: #434B5C;\n",
              "      box-shadow: 0px 1px 3px 1px rgba(0, 0, 0, 0.15);\n",
              "      filter: drop-shadow(0px 1px 2px rgba(0, 0, 0, 0.3));\n",
              "      fill: #FFFFFF;\n",
              "    }\n",
              "  </style>\n",
              "\n",
              "      <script>\n",
              "        const buttonEl =\n",
              "          document.querySelector('#df-b4321f01-0907-4d60-abf8-df2415072664 button.colab-df-convert');\n",
              "        buttonEl.style.display =\n",
              "          google.colab.kernel.accessAllowed ? 'block' : 'none';\n",
              "\n",
              "        async function convertToInteractive(key) {\n",
              "          const element = document.querySelector('#df-b4321f01-0907-4d60-abf8-df2415072664');\n",
              "          const dataTable =\n",
              "            await google.colab.kernel.invokeFunction('convertToInteractive',\n",
              "                                                     [key], {});\n",
              "          if (!dataTable) return;\n",
              "\n",
              "          const docLinkHtml = 'Like what you see? Visit the ' +\n",
              "            '<a target=\"_blank\" href=https://colab.research.google.com/notebooks/data_table.ipynb>data table notebook</a>'\n",
              "            + ' to learn more about interactive tables.';\n",
              "          element.innerHTML = '';\n",
              "          dataTable['output_type'] = 'display_data';\n",
              "          await google.colab.output.renderOutput(dataTable, element);\n",
              "          const docLink = document.createElement('div');\n",
              "          docLink.innerHTML = docLinkHtml;\n",
              "          element.appendChild(docLink);\n",
              "        }\n",
              "      </script>\n",
              "    </div>\n",
              "  </div>\n",
              "  "
            ],
            "text/plain": [
              "   nominal_prediksi  nominal_referensi      jarak  kesimpulan\n",
              "0            100000             100000  10.159650        True\n",
              "1            100000             100000   7.423077        True\n",
              "2             50000               1000  29.053539       False\n",
              "3             50000               2000  27.356174       False\n",
              "4              5000               5000  14.572032        True\n",
              "5              5000               5000  12.124659        True\n",
              "6              2000               2000  24.894410        True\n",
              "7              2000               2000  14.637891        True"
            ]
          },
          "execution_count": 12,
          "metadata": {},
          "output_type": "execute_result"
        }
      ],
      "source": [
        "import pandas as pd\n",
        "\n",
        "hasiltotal = []\n",
        "for idx,uji in enumerate(feat_uji):\n",
        "  total_jarak = []\n",
        "  for referensi in feat_referensi:\n",
        "    jarak = np.linalg.norm(np.array(uji) - np.array(referensi))\n",
        "    total_jarak.append(jarak)\n",
        "  idxmin = np.argmin(total_jarak)\n",
        "  temp = {\n",
        "      \"nominal_prediksi\": int(file_uji[idx].split(\"-\")[1])*1000,\n",
        "      \"nominal_referensi\": int(file_referensi[idxmin].split(\"-\")[1])*1000,\n",
        "      \"jarak\":total_jarak[idxmin],\n",
        "      \"kesimpulan\":file_referensi[idxmin].split(\"-\")[1] == file_uji[idx].split(\"-\")[1]\n",
        "  }\n",
        "  hasiltotal.append(temp)\n",
        "\n",
        "pd.DataFrame(hasiltotal)"
      ]
    }
  ],
  "metadata": {
    "colab": {
      "provenance": []
    },
    "kernelspec": {
      "display_name": "Python 3",
      "name": "python3"
    },
    "language_info": {
      "name": "python"
    }
  },
  "nbformat": 4,
  "nbformat_minor": 0
}
